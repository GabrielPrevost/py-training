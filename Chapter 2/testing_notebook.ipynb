{
 "cells": [
  {
   "cell_type": "code",
   "execution_count": 6,
   "id": "a6cc5482-3ab1-4ce6-980f-7a03f718fec7",
   "metadata": {},
   "outputs": [
    {
     "name": "stdout",
     "output_type": "stream",
     "text": [
      "Audrey\n",
      "Raphaelle\n",
      "Serge\n",
      "Marie-Claude\n"
     ]
    }
   ],
   "source": [
    "names = ['Audrey', 'Raphaelle', 'Serge', 'Marie-Claude']\n",
    "print(names[0])\n",
    "print(names[1])\n",
    "print(names[2])\n",
    "print(names[3])"
   ]
  },
  {
   "cell_type": "code",
   "execution_count": 13,
   "id": "b41475ee-af6d-4981-a9b9-8ca571476317",
   "metadata": {
    "tags": []
   },
   "outputs": [
    {
     "name": "stdout",
     "output_type": "stream",
     "text": [
      "I love, Audrey\n",
      "I love, Raphaelle\n",
      "I love, Serge\n",
      "I love, Marie-Claude\n"
     ]
    }
   ],
   "source": [
    "names = ['Audrey', 'Raphaelle', 'Serge', 'Marie-Claude']\n",
    "\n",
    "message = 'I love'\n",
    "\n",
    "print(f'{message}, {names[0]}')\n",
    "print(f'{message}, {names[1]}')\n",
    "print(f'{message}, {names[2]}')\n",
    "print(f'{message}, {names[3]}')"
   ]
  },
  {
   "cell_type": "code",
   "execution_count": 26,
   "id": "7ae9edb4-2994-4d69-83cf-017123e1e594",
   "metadata": {
    "tags": []
   },
   "outputs": [
    {
     "name": "stdout",
     "output_type": "stream",
     "text": [
      "I am currently learning the programming language, Python\n",
      "\n",
      "Before learning Python, i learned the  programming language, HTML and CSS\n",
      "\n",
      "After i am efficient with Python programming language, I will learn JavaScript\n"
     ]
    }
   ],
   "source": [
    "languages = ['Python', 'JavaScript', 'HTML', 'CSS']\n",
    "message = 'programming language'\n",
    "\n",
    "print(f'I am currently learning the {message}, {languages[0]}')\n",
    "\n",
    "print(f'\\nBefore learning {languages[0]}, i learned the  {message}, {languages[2]} and {languages[3]}')\n",
    "print(f'\\nAfter i am efficient with {languages[0]} {message}, I will learn {languages[1]}')"
   ]
  },
  {
   "cell_type": "code",
   "execution_count": null,
   "id": "4bb14417-ecc6-4bff-9e0f-a90c035f9a76",
   "metadata": {},
   "outputs": [],
   "source": []
  }
 ],
 "metadata": {
  "kernelspec": {
   "display_name": "Python 3 (ipykernel)",
   "language": "python",
   "name": "python3"
  },
  "language_info": {
   "codemirror_mode": {
    "name": "ipython",
    "version": 3
   },
   "file_extension": ".py",
   "mimetype": "text/x-python",
   "name": "python",
   "nbconvert_exporter": "python",
   "pygments_lexer": "ipython3",
   "version": "3.10.9"
  }
 },
 "nbformat": 4,
 "nbformat_minor": 5
}
