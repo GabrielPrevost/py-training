{
 "cells": [
  {
   "cell_type": "code",
   "execution_count": 6,
   "id": "a6cc5482-3ab1-4ce6-980f-7a03f718fec7",
   "metadata": {},
   "outputs": [
    {
     "name": "stdout",
     "output_type": "stream",
     "text": [
      "Audrey\n",
      "Raphaelle\n",
      "Serge\n",
      "Marie-Claude\n"
     ]
    }
   ],
   "source": [
    "names = ['Audrey', 'Raphaelle', 'Serge', 'Marie-Claude']\n",
    "print(names[0])\n",
    "print(names[1])\n",
    "print(names[2])\n",
    "print(names[3])"
   ]
  },
  {
   "cell_type": "code",
   "execution_count": 13,
   "id": "b41475ee-af6d-4981-a9b9-8ca571476317",
   "metadata": {
    "tags": []
   },
   "outputs": [
    {
     "name": "stdout",
     "output_type": "stream",
     "text": [
      "I love, Audrey\n",
      "I love, Raphaelle\n",
      "I love, Serge\n",
      "I love, Marie-Claude\n"
     ]
    }
   ],
   "source": [
    "names = ['Audrey', 'Raphaelle', 'Serge', 'Marie-Claude']\n",
    "\n",
    "message = 'I love'\n",
    "\n",
    "print(f'{message}, {names[0]}')\n",
    "print(f'{message}, {names[1]}')\n",
    "print(f'{message}, {names[2]}')\n",
    "print(f'{message}, {names[3]}')"
   ]
  },
  {
   "cell_type": "code",
   "execution_count": 26,
   "id": "7ae9edb4-2994-4d69-83cf-017123e1e594",
   "metadata": {
    "tags": []
   },
   "outputs": [
    {
     "name": "stdout",
     "output_type": "stream",
     "text": [
      "I am currently learning the programming language, Python\n",
      "\n",
      "Before learning Python, i learned the  programming language, HTML and CSS\n",
      "\n",
      "After i am efficient with Python programming language, I will learn JavaScript\n"
     ]
    }
   ],
   "source": [
    "languages = ['Python', 'JavaScript', 'HTML', 'CSS']\n",
    "message = 'programming language'\n",
    "\n",
    "print(f'I am currently learning the {message}, {languages[0]}')\n",
    "\n",
    "print(f'\\nBefore learning {languages[0]}, i learned the  {message}, {languages[2]} and {languages[3]}')\n",
    "print(f'\\nAfter i am efficient with {languages[0]} {message}, I will learn {languages[1]}')"
   ]
  },
  {
   "cell_type": "code",
   "execution_count": 28,
   "id": "4bb14417-ecc6-4bff-9e0f-a90c035f9a76",
   "metadata": {
    "tags": []
   },
   "outputs": [
    {
     "name": "stdout",
     "output_type": "stream",
     "text": [
      "['honda', 'yamaha', 'suzuki']\n"
     ]
    }
   ],
   "source": [
    "#append() function\n",
    "motorcycles = []\n",
    "\n",
    "motorcycles.append('honda')\n",
    "motorcycles.append('yamaha')\n",
    "motorcycles.append('suzuki')\n",
    "\n",
    "print(motorcycles)"
   ]
  },
  {
   "cell_type": "code",
   "execution_count": 29,
   "id": "8ff1fae5-d7bd-4e3e-924a-234689f5b2bb",
   "metadata": {
    "tags": []
   },
   "outputs": [
    {
     "name": "stdout",
     "output_type": "stream",
     "text": [
      "['ducati', 'honda', 'yamaha', 'suzuki']\n"
     ]
    }
   ],
   "source": [
    "#insert() function\n",
    "motorcycles = ['honda', 'yamaha', 'suzuki']\n",
    "\n",
    "motorcycles.insert(0, 'ducati')\n",
    "print(motorcycles)"
   ]
  },
  {
   "cell_type": "code",
   "execution_count": 30,
   "id": "ffa5bb6b-8548-472e-a8eb-76c99406157e",
   "metadata": {
    "tags": []
   },
   "outputs": [
    {
     "name": "stdout",
     "output_type": "stream",
     "text": [
      "['honda', 'yamaha', 'suzuki']\n",
      "['yamaha', 'suzuki']\n"
     ]
    }
   ],
   "source": [
    "#del statement\n",
    "motorcycles = ['honda', 'yamaha', 'suzuki']\n",
    "print(motorcycles)\n",
    "\n",
    "del motorcycles[0]\n",
    "print(motorcycles)"
   ]
  },
  {
   "cell_type": "code",
   "execution_count": 36,
   "id": "087a9109-ef8a-460d-a877-4c478b7c8dcd",
   "metadata": {
    "tags": []
   },
   "outputs": [
    {
     "name": "stdout",
     "output_type": "stream",
     "text": [
      "['honda', 'yamaha', 'suzuki']\n",
      "['honda', 'yamaha']\n",
      "suzuki\n"
     ]
    }
   ],
   "source": [
    "#pop() Method\n",
    "motorcycles = ['honda', 'yamaha', 'suzuki']\n",
    "print(motorcycles)\n",
    "\n",
    "popped_motorcycle = motorcycles.pop()\n",
    "print(motorcycles)\n",
    "print(popped_motorcycle)"
   ]
  },
  {
   "cell_type": "code",
   "execution_count": 38,
   "id": "b60b7b64-0808-4c05-ab6e-406cd237e97a",
   "metadata": {
    "tags": []
   },
   "outputs": [
    {
     "name": "stdout",
     "output_type": "stream",
     "text": [
      "The last motorcycle i owned was a Suzuki\n"
     ]
    }
   ],
   "source": [
    "#pop() exemple\n",
    "motorcycles = ['honda', 'yamaha', 'suzuki']\n",
    "\n",
    "last_owned = motorcycles.pop()\n",
    "print(f\"The last motorcycle i owned was a {last_owned.title()}\")"
   ]
  },
  {
   "cell_type": "code",
   "execution_count": 39,
   "id": "bc7f0fdd-ed26-4835-9291-bc618bdc7261",
   "metadata": {
    "tags": []
   },
   "outputs": [
    {
     "name": "stdout",
     "output_type": "stream",
     "text": [
      "The first motorcycle I owned was a Honda\n"
     ]
    }
   ],
   "source": [
    "#using pop() from any position in a list\n",
    "motorcycles = ['honda', 'yamaha', 'suzuki']\n",
    "\n",
    "first_owned = motorcycles.pop(0)\n",
    "print(f\"The first motorcycle I owned was a {first_owned.title()}\")"
   ]
  },
  {
   "cell_type": "code",
   "execution_count": 40,
   "id": "4b519ef5-7671-4331-9acf-59c1786253c1",
   "metadata": {
    "tags": []
   },
   "outputs": [
    {
     "data": {
      "text/plain": [
       "-17"
      ]
     },
     "execution_count": 40,
     "metadata": {},
     "output_type": "execute_result"
    }
   ],
   "source": [
    "4-5*5+4\n"
   ]
  },
  {
   "cell_type": "code",
   "execution_count": 42,
   "id": "68081645-8e4c-4892-ab0b-cb4fa0378b17",
   "metadata": {
    "tags": []
   },
   "outputs": [
    {
     "name": "stdout",
     "output_type": "stream",
     "text": [
      "['honda', 'yamaha', 'suzuki', 'ducati']\n",
      "['honda', 'yamaha', 'suzuki']\n"
     ]
    }
   ],
   "source": [
    "#remove() method\n",
    "motorcycles = ['honda', 'yamaha', 'suzuki', 'ducati']\n",
    "print(motorcycles)\n",
    "\n",
    "motorcycles.remove('ducati')\n",
    "print(motorcycles)"
   ]
  },
  {
   "cell_type": "code",
   "execution_count": 43,
   "id": "8171deaa-887d-497c-aa43-961d728edc76",
   "metadata": {
    "tags": []
   },
   "outputs": [
    {
     "name": "stdout",
     "output_type": "stream",
     "text": [
      "['honda', 'yamaha', 'suzuki', 'ducati']\n",
      "['honda', 'yamaha', 'suzuki']\n",
      "\n",
      "A Ducati is too expensive for me.\n"
     ]
    }
   ],
   "source": [
    "#remove() method\n",
    "motorcycles = ['honda', 'yamaha', 'suzuki', 'ducati']\n",
    "print(motorcycles)\n",
    "\n",
    "too_expensive = 'ducati'\n",
    "motorcycles.remove(too_expensive)\n",
    "print(motorcycles)\n",
    "print(f\"\\nA {too_expensive.title()} is too expensive for me.\")"
   ]
  },
  {
   "cell_type": "code",
   "execution_count": 48,
   "id": "2ce2181b-9e4c-4ee3-9c87-b2f0c3d50c41",
   "metadata": {
    "tags": []
   },
   "outputs": [
    {
     "name": "stdout",
     "output_type": "stream",
     "text": [
      "The remove() method deletes only the first occurrence of the value you specify. If there’s a possibility the value appears more than once in the list, you’ll need to use a loop to make sure all occurrences of the value are removed. You’ll learn how to do this in Chapter 7. Matthes, Eric. Python Crash Course, 3rd Edition (p. 41). No Starch Press. Kindle Edition.\n"
     ]
    }
   ],
   "source": [
    "print(\"The remove() method deletes only the first occurrence of the value you specify. If there’s a possibility the value appears more than once in the list, you’ll need to use a loop to make sure all occurrences of the value are removed. You’ll learn how to do this in Chapter 7. Matthes, Eric. Python Crash Course, 3rd Edition (p. 41). No Starch Press. Kindle Edition.\")"
   ]
  },
  {
   "cell_type": "code",
   "execution_count": 52,
   "id": "60c87f6f-e277-4583-9764-3ac0bdbabe99",
   "metadata": {
    "tags": []
   },
   "outputs": [
    {
     "name": "stdout",
     "output_type": "stream",
     "text": [
      "This is an invitation to a dinner party for Raphie.\n",
      "This is an invitation to a dinner party for Audrey.\n",
      "This is an invitation to a dinner party for Serge.\n",
      "This is an invitation to a dinner party for Marie-Claude.\n"
     ]
    }
   ],
   "source": [
    "#3-4 Guest list exercise\n",
    "guests = ['raphie', 'audrey', 'serge', 'marie-claude']\n",
    "print(f'This is an invitation to a dinner party for {guests[0].title()}.')\n",
    "print(f'This is an invitation to a dinner party for {guests[1].title()}.')\n",
    "print(f'This is an invitation to a dinner party for {guests[2].title()}.')\n",
    "print(f'This is an invitation to a dinner party for {guests[3].title()}.')"
   ]
  },
  {
   "cell_type": "code",
   "execution_count": 64,
   "id": "b3da63d1-d5f4-488b-b573-700faa98fd55",
   "metadata": {
    "tags": []
   },
   "outputs": [
    {
     "name": "stdout",
     "output_type": "stream",
     "text": [
      "This is an invitation to a dinner party for Raphie.\n",
      "This is an invitation to a dinner party for Audrey.\n",
      "This is an invitation to a dinner party for Serge.\n",
      "This is an invitation to a dinner party for Marie-Claude.\n",
      "Raphie, cant come to the dinner party\n",
      "This is an invitation to a dinner party for Raphaelle.\n",
      "This is an invitation to a dinner party for Audrey.\n",
      "This is an invitation to a dinner party for Serge.\n",
      "This is an invitation to a dinner party for Marie-Claude.\n"
     ]
    }
   ],
   "source": [
    "#3-5 Changing Guest list\n",
    "guests = ['raphie', 'audrey', 'serge', 'marie-claude']\n",
    "\n",
    "print(f'This is an invitation to a dinner party for {guests[0].title()}.')\n",
    "print(f'This is an invitation to a dinner party for {guests[1].title()}.')\n",
    "print(f'This is an invitation to a dinner party for {guests[2].title()}.')\n",
    "print(f'This is an invitation to a dinner party for {guests[3].title()}.')\n",
    "\n",
    "cannot_attend = 'raphie'\n",
    "print(f'{cannot_attend.title()}, cant come to the dinner party')\n",
    "\n",
    "guests.remove(cannot_attend)\n",
    "guests.insert(0, 'Raphaelle')\n",
    "\n",
    "print(f'This is an invitation to a dinner party for {guests[0].title()}.')\n",
    "print(f'This is an invitation to a dinner party for {guests[1].title()}.')\n",
    "print(f'This is an invitation to a dinner party for {guests[2].title()}.')\n",
    "print(f'This is an invitation to a dinner party for {guests[3].title()}.')\n"
   ]
  },
  {
   "cell_type": "code",
   "execution_count": 74,
   "id": "dedcb537-6187-4060-a855-c6a7b84c4907",
   "metadata": {
    "tags": []
   },
   "outputs": [
    {
     "name": "stdout",
     "output_type": "stream",
     "text": [
      "This is an invitation to a dinner party for Raphie.\n",
      "This is an invitation to a dinner party for Audrey.\n",
      "This is an invitation to a dinner party for Serge.\n",
      "This is an invitation to a dinner party for Marie-Claude.\n",
      "\n",
      "Raphie, cant come to the dinner party\n",
      "\n",
      "This is an invitation to a dinner party for Raphaelle.\n",
      "This is an invitation to a dinner party for Audrey.\n",
      "This is an invitation to a dinner party for Serge.\n",
      "This is an invitation to a dinner party for Marie-Claude.\n",
      "\n",
      "Hello everyone! I found a bigger table for our dinner party so i will add guests\n",
      "\n",
      "This is an invitation to a dinner party for Nico.\n",
      "This is an invitation to a dinner party for Raphaelle.\n",
      "This is an invitation to a dinner party for Rosalie.\n",
      "This is an invitation to a dinner party for Audrey.\n",
      "This is an invitation to a dinner party for Serge.\n",
      "This is an invitation to a dinner party for Marie-Claude.\n",
      "This is an invitation to a dinner party for Juliette.\n"
     ]
    }
   ],
   "source": [
    "#3-6 More Guest\n",
    "guests = ['raphie', 'audrey', 'serge', 'marie-claude']\n",
    "\n",
    "print(f'This is an invitation to a dinner party for {guests[0].title()}.')\n",
    "print(f'This is an invitation to a dinner party for {guests[1].title()}.')\n",
    "print(f'This is an invitation to a dinner party for {guests[2].title()}.')\n",
    "print(f'This is an invitation to a dinner party for {guests[3].title()}.')\n",
    "\n",
    "cannot_attend = 'raphie'\n",
    "print(f'\\n{cannot_attend.title()}, cant come to the dinner party')\n",
    "\n",
    "guests.remove(cannot_attend)\n",
    "guests.insert(0, 'Raphaelle')\n",
    "\n",
    "print(f'\\nThis is an invitation to a dinner party for {guests[0].title()}.')\n",
    "print(f'This is an invitation to a dinner party for {guests[1].title()}.')\n",
    "print(f'This is an invitation to a dinner party for {guests[2].title()}.')\n",
    "print(f'This is an invitation to a dinner party for {guests[3].title()}.')\n",
    "\n",
    "print('\\nHello everyone! I found a bigger table for our dinner party so i will add guests')\n",
    "guests.insert(0, 'nico')\n",
    "guests.insert(2, 'rosalie')\n",
    "guests.append('juliette')\n",
    "\n",
    "print(f'\\nThis is an invitation to a dinner party for {guests[0].title()}.')\n",
    "print(f'This is an invitation to a dinner party for {guests[1].title()}.')\n",
    "print(f'This is an invitation to a dinner party for {guests[2].title()}.')\n",
    "print(f'This is an invitation to a dinner party for {guests[3].title()}.')\n",
    "print(f'This is an invitation to a dinner party for {guests[4].title()}.')\n",
    "print(f'This is an invitation to a dinner party for {guests[5].title()}.')\n",
    "print(f'This is an invitation to a dinner party for {guests[6].title()}.')"
   ]
  },
  {
   "cell_type": "code",
   "execution_count": 92,
   "id": "92f27e2c-b1db-4890-a32e-9e100df8182e",
   "metadata": {
    "tags": []
   },
   "outputs": [
    {
     "name": "stdout",
     "output_type": "stream",
     "text": [
      "This is an invitation to a dinner party for Raphie.\n",
      "This is an invitation to a dinner party for Audrey.\n",
      "This is an invitation to a dinner party for Serge.\n",
      "This is an invitation to a dinner party for Marie-Claude.\n",
      "\n",
      "Raphie, cant come to the dinner party\n",
      "\n",
      "This is an invitation to a dinner party for Raphaelle.\n",
      "This is an invitation to a dinner party for Audrey.\n",
      "This is an invitation to a dinner party for Serge.\n",
      "This is an invitation to a dinner party for Marie-Claude.\n",
      "\n",
      "Hello everyone! I found a bigger table for our dinner party so i will add guests\n",
      "\n",
      "This is an invitation to a dinner party for Nico.\n",
      "This is an invitation to a dinner party for Raphaelle.\n",
      "This is an invitation to a dinner party for Rosalie.\n",
      "This is an invitation to a dinner party for Audrey.\n",
      "This is an invitation to a dinner party for Serge.\n",
      "This is an invitation to a dinner party for Marie-Claude.\n",
      "This is an invitation to a dinner party for Juliette.\n",
      "\n",
      "Unfortunately only 2 of you guys can come to the dinner\n",
      "\n",
      "Sorry Juliette\n",
      "Sorry Marie-Claude\n",
      "Sorry Serge\n",
      "Sorry Audrey\n",
      "Sorry Rosalie\n",
      "\n",
      "Hello Nico and Raphaelle, this is going to be only us 3 for dinner\n",
      "[]\n"
     ]
    }
   ],
   "source": [
    "#Shrinking Guest List\n",
    "guests = ['raphie', 'audrey', 'serge', 'marie-claude']\n",
    "\n",
    "print(f'This is an invitation to a dinner party for {guests[0].title()}.')\n",
    "print(f'This is an invitation to a dinner party for {guests[1].title()}.')\n",
    "print(f'This is an invitation to a dinner party for {guests[2].title()}.')\n",
    "print(f'This is an invitation to a dinner party for {guests[3].title()}.')\n",
    "\n",
    "cannot_attend = 'raphie'\n",
    "print(f'\\n{cannot_attend.title()}, cant come to the dinner party')\n",
    "\n",
    "guests.remove(cannot_attend)\n",
    "guests.insert(0, 'raphaelle')\n",
    "\n",
    "print(f'\\nThis is an invitation to a dinner party for {guests[0].title()}.')\n",
    "print(f'This is an invitation to a dinner party for {guests[1].title()}.')\n",
    "print(f'This is an invitation to a dinner party for {guests[2].title()}.')\n",
    "print(f'This is an invitation to a dinner party for {guests[3].title()}.')\n",
    "\n",
    "print('\\nHello everyone! I found a bigger table for our dinner party so i will add guests')\n",
    "guests.insert(0, 'nico')\n",
    "guests.insert(2, 'rosalie')\n",
    "guests.append('juliette')\n",
    "\n",
    "print(f'\\nThis is an invitation to a dinner party for {guests[0].title()}.')\n",
    "print(f'This is an invitation to a dinner party for {guests[1].title()}.')\n",
    "print(f'This is an invitation to a dinner party for {guests[2].title()}.')\n",
    "print(f'This is an invitation to a dinner party for {guests[3].title()}.')\n",
    "print(f'This is an invitation to a dinner party for {guests[4].title()}.')\n",
    "print(f'This is an invitation to a dinner party for {guests[5].title()}.')\n",
    "print(f'This is an invitation to a dinner party for {guests[6].title()}.')\n",
    "\n",
    "print(f'\\nUnfortunately only 2 of you guys can come to the dinner')\n",
    "uninvited_guests = guests.pop()\n",
    "print(f'\\nSorry {uninvited_guests.title()}')\n",
    "uninvited_guests = guests.pop()\n",
    "print(f'Sorry {uninvited_guests.title()}')\n",
    "uninvited_guests = guests.pop()\n",
    "print(f'Sorry {uninvited_guests.title()}')\n",
    "uninvited_guests = guests.pop()\n",
    "print(f'Sorry {uninvited_guests.title()}')\n",
    "uninvited_guests = guests.pop()\n",
    "print(f'Sorry {uninvited_guests.title()}')\n",
    "\n",
    "print(f'\\nHello {guests[0].title()} and {guests[1].title()}, this is going to be only us 3 for dinner')\n",
    "\n",
    "del guests[0]\n",
    "del guests[0]\n",
    "print(guests)"
   ]
  },
  {
   "cell_type": "code",
   "execution_count": 93,
   "id": "c7c481dd-6782-49c9-9bbe-cab7fa71635a",
   "metadata": {
    "tags": []
   },
   "outputs": [
    {
     "name": "stdout",
     "output_type": "stream",
     "text": [
      "['audi', 'bmw', 'subaru', 'toyota']\n"
     ]
    }
   ],
   "source": [
    "cars = ['bmw', 'audi', 'toyota', 'subaru']\n",
    "cars.sort()\n",
    "print(cars)"
   ]
  },
  {
   "cell_type": "code",
   "execution_count": 94,
   "id": "738eebdb-9261-48b8-a2de-4a60be256495",
   "metadata": {
    "tags": []
   },
   "outputs": [
    {
     "name": "stdout",
     "output_type": "stream",
     "text": [
      "['toyota', 'subaru', 'bmw', 'audi']\n"
     ]
    }
   ],
   "source": [
    "cars = ['bmw', 'audi', 'toyota', 'subaru']\n",
    "cars.sort(reverse=True)\n",
    "print(cars)"
   ]
  },
  {
   "cell_type": "code",
   "execution_count": 97,
   "id": "ca59fe75-add3-4957-8af3-96369be58d12",
   "metadata": {
    "tags": []
   },
   "outputs": [
    {
     "name": "stdout",
     "output_type": "stream",
     "text": [
      "here is the original list:\n",
      "['bmw', 'audi', 'toyota', 'subaru']\n",
      "\n",
      "Here is the sorted list:\n",
      "['audi', 'bmw', 'subaru', 'toyota']\n",
      "\n",
      "Here is the original list again:\n",
      "['bmw', 'audi', 'toyota', 'subaru']\n"
     ]
    }
   ],
   "source": [
    "cars = ['bmw', 'audi', 'toyota', 'subaru']\n",
    "print(\"here is the original list:\")\n",
    "print(cars)\n",
    "print(\"\\nHere is the sorted list:\")\n",
    "print(sorted(cars))\n",
    "print(\"\\nHere is the original list again:\")\n",
    "print(cars)"
   ]
  },
  {
   "cell_type": "code",
   "execution_count": 98,
   "id": "475ae24c-1b89-46d8-8711-52949d443538",
   "metadata": {
    "tags": []
   },
   "outputs": [
    {
     "name": "stdout",
     "output_type": "stream",
     "text": [
      "['bmw', 'audi', 'toyota', 'subaru']\n",
      "['subaru', 'toyota', 'audi', 'bmw']\n"
     ]
    }
   ],
   "source": [
    "cars = ['bmw', 'audi', 'toyota', 'subaru']\n",
    "print(cars)\n",
    "\n",
    "cars.reverse()\n",
    "print(cars)"
   ]
  },
  {
   "cell_type": "code",
   "execution_count": 99,
   "id": "98a0b4a0-6a27-49a7-9e52-fc068eebee74",
   "metadata": {
    "tags": []
   },
   "outputs": [
    {
     "data": {
      "text/plain": [
       "4"
      ]
     },
     "execution_count": 99,
     "metadata": {},
     "output_type": "execute_result"
    }
   ],
   "source": [
    "len(cars)"
   ]
  },
  {
   "cell_type": "code",
   "execution_count": 120,
   "id": "cdd00ca2-7584-4aaa-9b1e-3a6726d702ed",
   "metadata": {
    "tags": []
   },
   "outputs": [
    {
     "name": "stdout",
     "output_type": "stream",
     "text": [
      "['bangkok', 'miami', 'toronto', 'uyuni', 'vancouver']\n",
      "['vancouver', 'toronto', 'bangkok', 'uyuni', 'miami']\n",
      "['vancouver', 'uyuni', 'toronto', 'miami', 'bangkok']\n",
      "['vancouver', 'toronto', 'bangkok', 'uyuni', 'miami']\n",
      "['miami', 'uyuni', 'bangkok', 'toronto', 'vancouver']\n",
      "['vancouver', 'toronto', 'bangkok', 'uyuni', 'miami']\n",
      "['bangkok', 'miami', 'toronto', 'uyuni', 'vancouver']\n",
      "['vancouver', 'uyuni', 'toronto', 'miami', 'bangkok']\n"
     ]
    }
   ],
   "source": [
    "#3-8 Seeing the World\n",
    "places = ['vancouver', 'toronto', 'bangkok', 'uyuni', 'miami']\n",
    "places\n",
    "\n",
    "print(sorted(places))\n",
    "print(places)\n",
    "\n",
    "print(sorted(places, reverse=True))\n",
    "print(places)\n",
    "\n",
    "places.reverse()\n",
    "print(places)\n",
    "\n",
    "places.reverse()\n",
    "print(places)\n",
    "\n",
    "places.sort()\n",
    "print(places)\n",
    "\n",
    "places.sort(reverse=True)\n",
    "print(places)"
   ]
  },
  {
   "cell_type": "code",
   "execution_count": 126,
   "id": "4e58e587-4d81-447e-86e8-400d0a469e4a",
   "metadata": {
    "tags": []
   },
   "outputs": [
    {
     "name": "stdout",
     "output_type": "stream",
     "text": [
      "This is an invitation to a dinner party for Raphie.\n",
      "This is an invitation to a dinner party for Audrey.\n",
      "This is an invitation to a dinner party for Serge.\n",
      "This is an invitation to a dinner party for Marie-Claude.\n",
      "\n",
      "Raphie, cant come to the dinner party\n",
      "\n",
      "This is an invitation to a dinner party for Raphaelle.\n",
      "This is an invitation to a dinner party for Audrey.\n",
      "This is an invitation to a dinner party for Serge.\n",
      "This is an invitation to a dinner party for Marie-Claude.\n",
      "\n",
      "Hello everyone! I found a bigger table for our dinner party so i will add guests\n",
      "\n",
      "This is an invitation to a dinner party for Nico.\n",
      "This is an invitation to a dinner party for Raphaelle.\n",
      "This is an invitation to a dinner party for Rosalie.\n",
      "This is an invitation to a dinner party for Audrey.\n",
      "This is an invitation to a dinner party for Serge.\n",
      "This is an invitation to a dinner party for Marie-Claude.\n",
      "This is an invitation to a dinner party for Juliette.\n"
     ]
    },
    {
     "data": {
      "text/plain": [
       "7"
      ]
     },
     "execution_count": 126,
     "metadata": {},
     "output_type": "execute_result"
    }
   ],
   "source": [
    "#3-9 Dinner Guests\n",
    "guests = ['raphie', 'audrey', 'serge', 'marie-claude']\n",
    "\n",
    "print(f'This is an invitation to a dinner party for {guests[0].title()}.')\n",
    "print(f'This is an invitation to a dinner party for {guests[1].title()}.')\n",
    "print(f'This is an invitation to a dinner party for {guests[2].title()}.')\n",
    "print(f'This is an invitation to a dinner party for {guests[3].title()}.')\n",
    "\n",
    "cannot_attend = 'raphie'\n",
    "print(f'\\n{cannot_attend.title()}, cant come to the dinner party')\n",
    "\n",
    "guests.remove(cannot_attend)\n",
    "guests.insert(0, 'Raphaelle')\n",
    "\n",
    "print(f'\\nThis is an invitation to a dinner party for {guests[0].title()}.')\n",
    "print(f'This is an invitation to a dinner party for {guests[1].title()}.')\n",
    "print(f'This is an invitation to a dinner party for {guests[2].title()}.')\n",
    "print(f'This is an invitation to a dinner party for {guests[3].title()}.')\n",
    "\n",
    "print('\\nHello everyone! I found a bigger table for our dinner party so i will add guests')\n",
    "guests.insert(0, 'nico')\n",
    "guests.insert(2, 'rosalie')\n",
    "guests.append('juliette')\n",
    "\n",
    "print(f'\\nThis is an invitation to a dinner party for {guests[0].title()}.')\n",
    "print(f'This is an invitation to a dinner party for {guests[1].title()}.')\n",
    "print(f'This is an invitation to a dinner party for {guests[2].title()}.')\n",
    "print(f'This is an invitation to a dinner party for {guests[3].title()}.')\n",
    "print(f'This is an invitation to a dinner party for {guests[4].title()}.')\n",
    "print(f'This is an invitation to a dinner party for {guests[5].title()}.')\n",
    "print(f'This is an invitation to a dinner party for {guests[6].title()}.')\n",
    "len(guests)"
   ]
  },
  {
   "cell_type": "code",
   "execution_count": 123,
   "id": "318d977a-063b-4bc0-9325-e8c234373fbe",
   "metadata": {
    "tags": []
   },
   "outputs": [
    {
     "data": {
      "text/plain": [
       "\u001b[0;31mSignature:\u001b[0m \u001b[0mlen\u001b[0m\u001b[0;34m(\u001b[0m\u001b[0mobj\u001b[0m\u001b[0;34m,\u001b[0m \u001b[0;34m/\u001b[0m\u001b[0;34m)\u001b[0m\u001b[0;34m\u001b[0m\u001b[0;34m\u001b[0m\u001b[0m\n",
       "\u001b[0;31mDocstring:\u001b[0m Return the number of items in a container.\n",
       "\u001b[0;31mType:\u001b[0m      builtin_function_or_method"
      ]
     },
     "metadata": {},
     "output_type": "display_data"
    }
   ],
   "source": [
    "len?\n"
   ]
  },
  {
   "cell_type": "code",
   "execution_count": 146,
   "id": "c365955b-b0c7-40ad-8cce-0cc2c5b11ab9",
   "metadata": {
    "tags": []
   },
   "outputs": [
    {
     "name": "stdout",
     "output_type": "stream",
     "text": [
      "['runescape', 'league of legends', 'world of warcraft']\n",
      "['runescape', 'league of legends', 'world of warcraft', 'call of duty']\n",
      "['fortnite', 'runescape', 'league of legends', 'world of warcraft', 'call of duty']\n",
      "['runescape', 'league of legends', 'world of warcraft', 'call of duty']\n",
      "['runescape', 'league of legends', 'world of warcraft']\n",
      "['league of legends', 'world of warcraft']\n",
      "['league of legends', 'world of warcraft', 'call of duty', 'fortnite', 'runescape']\n",
      "['call of duty', 'fortnite', 'league of legends', 'runescape', 'world of warcraft']\n",
      "['call of duty', 'fortnite', 'league of legends', 'runescape', 'world of warcraft']\n",
      "['world of warcraft', 'runescape', 'league of legends', 'fortnite', 'call of duty']\n",
      "['call of duty', 'fortnite', 'league of legends', 'runescape', 'world of warcraft']\n"
     ]
    }
   ],
   "source": [
    "games = ['runescape', 'league of legends', 'world of warcraft']\n",
    "\n",
    "print(games)\n",
    "\n",
    "games.append('call of duty')\n",
    "\n",
    "print(games)\n",
    "\n",
    "games.insert(0, 'fortnite')\n",
    "\n",
    "print(games)\n",
    "\n",
    "games.remove('fortnite')\n",
    "\n",
    "print(games)\n",
    "\n",
    "popped_games = games.pop()\n",
    "print(games)\n",
    "\n",
    "del games[0]\n",
    "print(games)\n",
    "\n",
    "games.append('call of duty')\n",
    "games.append('fortnite')\n",
    "games.append('runescape')\n",
    "print(games)\n",
    "\n",
    "print(sorted(games))\n",
    "\n",
    "games.sort()\n",
    "print(games)\n",
    "\n",
    "games.sort(reverse=True)\n",
    "print(games)\n",
    "\n",
    "games.reverse()\n",
    "print(games)"
   ]
  },
  {
   "cell_type": "code",
   "execution_count": 2,
   "id": "a70d3a4f-e6bc-4c87-a7ed-0462d4ed3138",
   "metadata": {},
   "outputs": [
    {
     "ename": "IndexError",
     "evalue": "list index out of range",
     "output_type": "error",
     "traceback": [
      "\u001b[0;31m---------------------------------------------------------------------------\u001b[0m",
      "\u001b[0;31mIndexError\u001b[0m                                Traceback (most recent call last)",
      "Cell \u001b[0;32mIn[2], line 4\u001b[0m\n\u001b[1;32m      1\u001b[0m \u001b[38;5;66;03m#3-11 Intentional Error\u001b[39;00m\n\u001b[1;32m      2\u001b[0m games \u001b[38;5;241m=\u001b[39m [\u001b[38;5;124m'\u001b[39m\u001b[38;5;124mrunescape\u001b[39m\u001b[38;5;124m'\u001b[39m, \u001b[38;5;124m'\u001b[39m\u001b[38;5;124mleague of legends\u001b[39m\u001b[38;5;124m'\u001b[39m, \u001b[38;5;124m'\u001b[39m\u001b[38;5;124mworld of warcraft\u001b[39m\u001b[38;5;124m'\u001b[39m]\n\u001b[0;32m----> 4\u001b[0m \u001b[38;5;28mprint\u001b[39m(\u001b[43mgames\u001b[49m\u001b[43m[\u001b[49m\u001b[38;5;241;43m3\u001b[39;49m\u001b[43m]\u001b[49m)\n\u001b[1;32m      6\u001b[0m \u001b[38;5;28mprint\u001b[39m(games[\u001b[38;5;241m2\u001b[39m])\n",
      "\u001b[0;31mIndexError\u001b[0m: list index out of range"
     ]
    }
   ],
   "source": [
    "#3-11 Intentional Error\n",
    "games = ['runescape', 'league of legends', 'world of warcraft']\n",
    "\n",
    "print(games[3])\n",
    "\n",
    "print(games[2])\n"
   ]
  },
  {
   "cell_type": "code",
   "execution_count": null,
   "id": "a9bda6ec-e8ae-4643-8419-c59b9c68c642",
   "metadata": {},
   "outputs": [],
   "source": []
  }
 ],
 "metadata": {
  "kernelspec": {
   "display_name": "Python 3 (ipykernel)",
   "language": "python",
   "name": "python3"
  },
  "language_info": {
   "codemirror_mode": {
    "name": "ipython",
    "version": 3
   },
   "file_extension": ".py",
   "mimetype": "text/x-python",
   "name": "python",
   "nbconvert_exporter": "python",
   "pygments_lexer": "ipython3",
   "version": "3.10.9"
  }
 },
 "nbformat": 4,
 "nbformat_minor": 5
}
