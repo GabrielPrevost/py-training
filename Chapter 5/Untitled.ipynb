{
 "cells": [
  {
   "cell_type": "code",
   "execution_count": 1,
   "id": "75e74999-65ff-4a11-b9cc-43a1ef7fce02",
   "metadata": {
    "tags": []
   },
   "outputs": [
    {
     "name": "stdout",
     "output_type": "stream",
     "text": [
      "Audi\n",
      "BMW\n",
      "Subaru\n",
      "Toyota\n"
     ]
    }
   ],
   "source": [
    "cars = ['audi', 'bmw', 'subaru', 'toyota']\n",
    "\n",
    "for car in cars: \n",
    "    if car == 'bmw':\n",
    "        print(car.upper())\n",
    "    else:\n",
    "        print(car.title())"
   ]
  },
  {
   "cell_type": "code",
   "execution_count": 2,
   "id": "72be5539-f74c-45d9-b978-227a6a9eb2d9",
   "metadata": {
    "tags": []
   },
   "outputs": [
    {
     "name": "stdout",
     "output_type": "stream",
     "text": [
      "Hold the anchovies\n"
     ]
    }
   ],
   "source": [
    "#inequality operator\n",
    "requested_topping = 'mushrooms'\n",
    "\n",
    "if requested_topping != 'anchovies':\n",
    "    print('Hold the anchovies')"
   ]
  },
  {
   "cell_type": "code",
   "execution_count": 3,
   "id": "e3e80663-ddd3-4dad-b52f-36e083eeffaa",
   "metadata": {
    "tags": []
   },
   "outputs": [
    {
     "data": {
      "text/plain": [
       "True"
      ]
     },
     "execution_count": 3,
     "metadata": {},
     "output_type": "execute_result"
    }
   ],
   "source": [
    "age = 18\n",
    "age == 18"
   ]
  },
  {
   "cell_type": "code",
   "execution_count": 4,
   "id": "bff81542-0e5c-407f-a54f-5c09de0370ad",
   "metadata": {
    "tags": []
   },
   "outputs": [
    {
     "name": "stdout",
     "output_type": "stream",
     "text": [
      "That is not the correct answer. Please try again!\n"
     ]
    }
   ],
   "source": [
    "#magic_number.py\n",
    "answer = 17\n",
    "if answer != 42:\n",
    "    print('That is not the correct answer. Please try again!')"
   ]
  },
  {
   "cell_type": "code",
   "execution_count": 6,
   "id": "8825cbae-5627-4489-9b17-0434a5103f7f",
   "metadata": {},
   "outputs": [
    {
     "data": {
      "text/plain": [
       "True"
      ]
     },
     "execution_count": 6,
     "metadata": {},
     "output_type": "execute_result"
    }
   ],
   "source": [
    "requested_toppings = ['mushrooms', 'onions', 'pineapple']\n",
    "'mushrooms' in requested_toppings"
   ]
  },
  {
   "cell_type": "code",
   "execution_count": 4,
   "id": "57ac83ca-2593-48c5-92ec-fceea44c81a5",
   "metadata": {
    "tags": []
   },
   "outputs": [
    {
     "data": {
      "text/plain": [
       "False"
      ]
     },
     "execution_count": 4,
     "metadata": {},
     "output_type": "execute_result"
    }
   ],
   "source": [
    "'pepperoni' in requested_toppings"
   ]
  },
  {
   "cell_type": "code",
   "execution_count": 7,
   "id": "11a2f2f5-a7f0-4c61-bcec-8272f87d228d",
   "metadata": {
    "tags": []
   },
   "outputs": [
    {
     "name": "stdout",
     "output_type": "stream",
     "text": [
      "Marie, you can post a response if you wish.\n"
     ]
    }
   ],
   "source": [
    "#banned_users.py\n",
    "banned_users = ['andrew', 'carolina', 'david']\n",
    "user = 'marie'\n",
    "if user not in banned_users:\n",
    "    print(f\"{user.title()}, you can post a response if you wish.\")"
   ]
  },
  {
   "cell_type": "code",
   "execution_count": 8,
   "id": "9f7b9850-56e9-4af7-bf87-5448d5def08b",
   "metadata": {
    "tags": []
   },
   "outputs": [
    {
     "name": "stdout",
     "output_type": "stream",
     "text": [
      "Is car == 'subaru'? I predict True.\n",
      "True\n",
      "\n",
      "Is car == 'audi'? I predict False.\n",
      "False\n"
     ]
    }
   ],
   "source": [
    "car = 'subaru'\n",
    "print(\"Is car == 'subaru'? I predict True.\")\n",
    "print(car == 'subaru')\n",
    "\n",
    "print(\"\\nIs car == 'audi'? I predict False.\")\n",
    "print(car == 'audi')"
   ]
  },
  {
   "cell_type": "code",
   "execution_count": 12,
   "id": "6c7438ba-2379-4351-a48b-594e9be3f4e1",
   "metadata": {
    "tags": []
   },
   "outputs": [
    {
     "name": "stdout",
     "output_type": "stream",
     "text": [
      "Is games == 'octopath traverler'? I predict True.\n",
      "True\n"
     ]
    }
   ],
   "source": [
    "#5-1 Condiational Tests\n",
    "games = 'octopath traveler'\n",
    "print(\"Is games == 'octopath traverler'? I predict True.\")\n",
    "print(games == 'octopath traveler')"
   ]
  },
  {
   "cell_type": "code",
   "execution_count": 13,
   "id": "1e610286-7ed7-4d92-8168-e954446cd833",
   "metadata": {
    "tags": []
   },
   "outputs": [
    {
     "name": "stdout",
     "output_type": "stream",
     "text": [
      "Is games == 'dead cell'? I predict True.\n",
      "False\n"
     ]
    }
   ],
   "source": [
    "games = 'octopath traveler'\n",
    "print(\"Is games == 'dead cell'? I predict True.\")\n",
    "print(games == 'dead cell')"
   ]
  },
  {
   "cell_type": "code",
   "execution_count": 14,
   "id": "5b91a26e-363a-428b-a7ef-c5294eca67f3",
   "metadata": {
    "tags": []
   },
   "outputs": [
    {
     "name": "stdout",
     "output_type": "stream",
     "text": [
      "Is pc == 'macbook'? I predict True\n",
      "True\n"
     ]
    }
   ],
   "source": [
    "pc = 'macbook'\n",
    "print(\"Is pc == 'macbook'? I predict True\")\n",
    "print(pc == 'macbook')\n"
   ]
  },
  {
   "cell_type": "code",
   "execution_count": 15,
   "id": "9466e1d9-ab24-4ce1-9927-a9d47c54fd63",
   "metadata": {
    "tags": []
   },
   "outputs": [
    {
     "name": "stdout",
     "output_type": "stream",
     "text": [
      "Is games == 'octopath traverler'? I predict True.\n",
      "True\n",
      "Is games == 'dead cell'? I predict False.\n",
      "False\n",
      "Is pc == 'macbook'? I predict True.\n",
      "True\n",
      "Is pc == 'lenovo'? I predict False.\n",
      "False\n",
      "Is car == 'toyota'? I predict True.\n",
      "True\n",
      "Is car == 'honda'? I predict False.\n",
      "False\n",
      "Is baby_name == 'raphaelle'? I predict True.\n",
      "True\n",
      "Is baby_name == 'romeo'? I predict False.\n",
      "False\n",
      "Is phone == 'iphone'? I predict True.\n",
      "True\n",
      "Is phone == 'android'? I predict False.\n",
      "False\n"
     ]
    }
   ],
   "source": [
    "#5-1 Condiational Tests\n",
    "games = 'octopath traveler'\n",
    "print(\"Is games == 'octopath traverler'? I predict True.\")\n",
    "print(games == 'octopath traveler')\n",
    "\n",
    "games = 'octopath traveler'\n",
    "print(\"Is games == 'dead cell'? I predict False.\")\n",
    "print(games == 'dead cell')\n",
    "\n",
    "pc = 'macbook'\n",
    "print(\"Is pc == 'macbook'? I predict True.\")\n",
    "print(pc == 'macbook')\n",
    "\n",
    "pc = 'macbook'\n",
    "print(\"Is pc == 'lenovo'? I predict False.\")\n",
    "print(pc == 'lenovo')\n",
    "\n",
    "car = 'toyota'\n",
    "print(\"Is car == 'toyota'? I predict True.\")\n",
    "print(car == 'toyota')\n",
    "\n",
    "car = 'toyota'\n",
    "print(\"Is car == 'honda'? I predict False.\")\n",
    "print(car == 'honda')\n",
    "\n",
    "baby_name = 'raphaelle'\n",
    "print(\"Is baby_name == 'raphaelle'? I predict True.\")\n",
    "print(baby_name == 'raphaelle')\n",
    "\n",
    "baby_name = 'raphaelle'\n",
    "print(\"Is baby_name == 'romeo'? I predict False.\")\n",
    "print(baby_name == 'romeo')\n",
    "\n",
    "phone = 'iphone'\n",
    "print(\"Is phone == 'iphone'? I predict True.\")\n",
    "print(phone == 'iphone')\n",
    "\n",
    "phone = 'iphone'\n",
    "print(\"Is phone == 'android'? I predict False.\")\n",
    "print(phone == 'android')"
   ]
  },
  {
   "cell_type": "code",
   "execution_count": 16,
   "id": "9cb6381b-5d61-475e-a1d3-4a461ef8c625",
   "metadata": {
    "tags": []
   },
   "outputs": [
    {
     "data": {
      "text/plain": [
       "True"
      ]
     },
     "execution_count": 16,
     "metadata": {},
     "output_type": "execute_result"
    }
   ],
   "source": [
    "#5-2 More Conditional Tests\n",
    "games = 'octopath traveler'\n",
    "games == 'octopath traveler'"
   ]
  },
  {
   "cell_type": "code",
   "execution_count": 18,
   "id": "3a978857-f169-4b57-a137-e945d6ee9a3b",
   "metadata": {
    "tags": []
   },
   "outputs": [
    {
     "data": {
      "text/plain": [
       "False"
      ]
     },
     "execution_count": 18,
     "metadata": {},
     "output_type": "execute_result"
    }
   ],
   "source": [
    "games = 'Octopath Traveler'\n",
    "games.lower() == 'octopath traveler'"
   ]
  },
  {
   "cell_type": "code",
   "execution_count": 20,
   "id": "0c7cbf6c-59e7-437a-a9be-00e28aeedda5",
   "metadata": {
    "tags": []
   },
   "outputs": [
    {
     "data": {
      "text/plain": [
       "True"
      ]
     },
     "execution_count": 20,
     "metadata": {},
     "output_type": "execute_result"
    }
   ],
   "source": [
    "age = 28\n",
    "\n",
    "age == 28\n"
   ]
  },
  {
   "cell_type": "code",
   "execution_count": 21,
   "id": "5ac9f0fe-c966-436b-8e56-671dd94cf358",
   "metadata": {
    "tags": []
   },
   "outputs": [
    {
     "data": {
      "text/plain": [
       "False"
      ]
     },
     "execution_count": 21,
     "metadata": {},
     "output_type": "execute_result"
    }
   ],
   "source": [
    "age == 30"
   ]
  },
  {
   "cell_type": "code",
   "execution_count": 22,
   "id": "9f3fd935-cb3c-45fa-9078-837421080228",
   "metadata": {
    "tags": []
   },
   "outputs": [
    {
     "data": {
      "text/plain": [
       "True"
      ]
     },
     "execution_count": 22,
     "metadata": {},
     "output_type": "execute_result"
    }
   ],
   "source": [
    "age <= 30"
   ]
  },
  {
   "cell_type": "code",
   "execution_count": 23,
   "id": "c01c2c31-a263-47a3-a98e-3c5e62743604",
   "metadata": {
    "tags": []
   },
   "outputs": [
    {
     "data": {
      "text/plain": [
       "False"
      ]
     },
     "execution_count": 23,
     "metadata": {},
     "output_type": "execute_result"
    }
   ],
   "source": [
    "age >=30"
   ]
  },
  {
   "cell_type": "code",
   "execution_count": 24,
   "id": "ad244ffa-26e2-4593-abd5-3640112184ac",
   "metadata": {
    "tags": []
   },
   "outputs": [
    {
     "data": {
      "text/plain": [
       "False"
      ]
     },
     "execution_count": 24,
     "metadata": {},
     "output_type": "execute_result"
    }
   ],
   "source": [
    "age > 30"
   ]
  },
  {
   "cell_type": "code",
   "execution_count": 25,
   "id": "309d1a0f-d7ab-4c79-8c3f-f6e0ad087ba0",
   "metadata": {
    "tags": []
   },
   "outputs": [
    {
     "data": {
      "text/plain": [
       "True"
      ]
     },
     "execution_count": 25,
     "metadata": {},
     "output_type": "execute_result"
    }
   ],
   "source": [
    "age < 30"
   ]
  },
  {
   "cell_type": "code",
   "execution_count": 27,
   "id": "2fae5a64-6d2e-4ea0-a653-cd3775428578",
   "metadata": {
    "tags": []
   },
   "outputs": [
    {
     "data": {
      "text/plain": [
       "True"
      ]
     },
     "execution_count": 27,
     "metadata": {},
     "output_type": "execute_result"
    }
   ],
   "source": [
    "age <= 30 and age >= 18"
   ]
  },
  {
   "cell_type": "code",
   "execution_count": 28,
   "id": "c8955460-f3a5-4fdb-a12c-03371a0b2430",
   "metadata": {
    "tags": []
   },
   "outputs": [],
   "source": [
    "age_0 = 28\n",
    "age_1 = 18"
   ]
  },
  {
   "cell_type": "code",
   "execution_count": 30,
   "id": "d02582ba-d1ca-4bd8-ba19-a57a9a94ebf9",
   "metadata": {
    "tags": []
   },
   "outputs": [
    {
     "data": {
      "text/plain": [
       "True"
      ]
     },
     "execution_count": 30,
     "metadata": {},
     "output_type": "execute_result"
    }
   ],
   "source": [
    "age_0 >=18 or age_1 <= 28"
   ]
  },
  {
   "cell_type": "code",
   "execution_count": 31,
   "id": "3cff4a95-979b-40f3-9f1d-bc899d39c650",
   "metadata": {
    "tags": []
   },
   "outputs": [
    {
     "data": {
      "text/plain": [
       "True"
      ]
     },
     "execution_count": 31,
     "metadata": {},
     "output_type": "execute_result"
    }
   ],
   "source": [
    "games = ['octopath traveler', 'runescape', 'dead cell']\n",
    "'octopath traveler' in games"
   ]
  },
  {
   "cell_type": "code",
   "execution_count": 35,
   "id": "5bb99955-e261-4e31-820f-87f66f74f878",
   "metadata": {
    "tags": []
   },
   "outputs": [
    {
     "name": "stdout",
     "output_type": "stream",
     "text": [
      "Octopath Traveler 2, is available in our library\n"
     ]
    }
   ],
   "source": [
    "games = ['octopath traveler', 'runescape', 'dead cell']\n",
    "game = 'octopath traveler 2'\n",
    "\n",
    "if game not in games:\n",
    "    print(f\"{game.title()}, is not in our library\")\n",
    "if game in games:\n",
    "    print(f\"{game.title()}, is available in our library\")"
   ]
  },
  {
   "cell_type": "code",
   "execution_count": 37,
   "id": "acda1cf4-5830-40c0-b67f-07948ac6da47",
   "metadata": {
    "tags": []
   },
   "outputs": [
    {
     "name": "stdout",
     "output_type": "stream",
     "text": [
      "you are old enought to vote!\n",
      "Have you registered to vote yet?\n"
     ]
    }
   ],
   "source": [
    "#voting.py\n",
    "age = 19\n",
    "if age >= 18:\n",
    "    print(\"you are old enought to vote!\")\n",
    "    print(\"Have you registered to vote yet?\")"
   ]
  },
  {
   "cell_type": "code",
   "execution_count": 38,
   "id": "290778f0-9dc7-4922-81b7-bc3bb668cf30",
   "metadata": {
    "tags": []
   },
   "outputs": [
    {
     "name": "stdout",
     "output_type": "stream",
     "text": [
      "Sorry, you are too young to vote.\n",
      "please register to vote as soon as you turn 18!\n"
     ]
    }
   ],
   "source": [
    "age = 17\n",
    "if age >= 18:\n",
    "    print(\"you are old enought to vote!\")\n",
    "    print(\"Have you registered to vote yet?\")\n",
    "else:\n",
    "    print(\"Sorry, you are too young to vote.\")\n",
    "    print(\"please register to vote as soon as you turn 18!\")"
   ]
  },
  {
   "cell_type": "code",
   "execution_count": 39,
   "id": "9a5ff03d-d465-467b-b1d0-a3c697cd3775",
   "metadata": {
    "tags": []
   },
   "outputs": [
    {
     "name": "stdout",
     "output_type": "stream",
     "text": [
      "Your admission cost is 25$.\n"
     ]
    }
   ],
   "source": [
    "#The if-elif-else Chain\n",
    "age = 12\n",
    "\n",
    "if age < 4:\n",
    "    print(\"Your admission cost is 0$.\")\n",
    "elif age < 18:\n",
    "    print(\"Your admission cost is 25$.\")\n",
    "else:\n",
    "    print(\"Your admission cost is 40$.\")"
   ]
  },
  {
   "cell_type": "code",
   "execution_count": 41,
   "id": "517bd4f5-8f99-43f8-8c89-5cd6f88a0104",
   "metadata": {
    "tags": []
   },
   "outputs": [
    {
     "name": "stdout",
     "output_type": "stream",
     "text": [
      "Your admission cost is 25$.\n"
     ]
    }
   ],
   "source": [
    "#concise code\n",
    "age = 12\n",
    "\n",
    "if age < 4:\n",
    "    price = 0\n",
    "elif age < 18:\n",
    "    price = 25\n",
    "else:\n",
    "    price = 40\n",
    "\n",
    "print(f\"Your admission cost is {price}$.\")"
   ]
  },
  {
   "cell_type": "code",
   "execution_count": 43,
   "id": "988bb2d5-b8a8-44b7-a5ac-c882f7856923",
   "metadata": {
    "tags": []
   },
   "outputs": [
    {
     "name": "stdout",
     "output_type": "stream",
     "text": [
      "Adding mushrooms.\n",
      "Adding extra cheese\n",
      "\n",
      "Finished making your pizza!\n"
     ]
    }
   ],
   "source": [
    "#toppings.py\n",
    "requested_toppings = ['mushrooms','extra cheese']\n",
    "\n",
    "if 'mushrooms' in requested_toppings:\n",
    "    print('Adding mushrooms.')\n",
    "if 'pepperoni' in requested_toppings:\n",
    "    print('Adding pepperoni.')\n",
    "if 'extra cheese' in requested_toppings:\n",
    "    print('Adding extra cheese')\n",
    "\n",
    "print('\\nFinished making your pizza!')"
   ]
  },
  {
   "cell_type": "code",
   "execution_count": 48,
   "id": "45226e88-4341-4668-b921-968e077fffd0",
   "metadata": {
    "tags": []
   },
   "outputs": [
    {
     "name": "stdout",
     "output_type": "stream",
     "text": [
      "You just earned 5 points!\n"
     ]
    }
   ],
   "source": [
    "#5-3. Alien colors #1\n",
    "alien_color = 'green'\n",
    "\n",
    "if alien_color == 'green':\n",
    "    print('You just earned 5 points!')"
   ]
  },
  {
   "cell_type": "code",
   "execution_count": 51,
   "id": "cc929a68-bd15-4ef2-9327-9f92dadaabd4",
   "metadata": {
    "tags": []
   },
   "outputs": [],
   "source": [
    "alien_color = 'red'\n",
    "\n",
    "if alien_color == 'green':\n",
    "    print('You just earned 5 points!')"
   ]
  },
  {
   "cell_type": "code",
   "execution_count": 52,
   "id": "bee6c332-805f-4efa-9e51-dc32aee0802c",
   "metadata": {
    "tags": []
   },
   "outputs": [
    {
     "name": "stdout",
     "output_type": "stream",
     "text": [
      "You just earned 5 points!\n"
     ]
    }
   ],
   "source": [
    "#5-4. Alien colors #2\n",
    "alien_color = 'green'\n",
    "\n",
    "if alien_color == 'green':\n",
    "    print('You just earned 5 points!')\n",
    "else:\n",
    "    print('You just earned 10 points!')\n",
    "    "
   ]
  },
  {
   "cell_type": "code",
   "execution_count": 53,
   "id": "e81ebec6-ff6e-452f-b851-4c052f23f461",
   "metadata": {
    "tags": []
   },
   "outputs": [
    {
     "name": "stdout",
     "output_type": "stream",
     "text": [
      "You just earned 10 points!\n"
     ]
    }
   ],
   "source": [
    "#5-4. Alien colors #2\n",
    "alien_color = 'green'\n",
    "\n",
    "if alien_color == 'red':\n",
    "    print('You just earned 5 points!')\n",
    "else:\n",
    "    print('You just earned 10 points!')\n",
    "    "
   ]
  },
  {
   "cell_type": "code",
   "execution_count": 54,
   "id": "a15f290d-838b-400c-938e-2366ea692ad9",
   "metadata": {
    "tags": []
   },
   "outputs": [
    {
     "name": "stdout",
     "output_type": "stream",
     "text": [
      "You just earned 5 points!\n"
     ]
    }
   ],
   "source": [
    "#5-5. Alien colors #3\n",
    "alien_color = 'green'\n",
    "\n",
    "if alien_color == 'green':\n",
    "    print('You just earned 5 points!')\n",
    "elif alien_color == 'yellow':\n",
    "    print('You just earned 10 points!')\n",
    "elif alien_color == 'red':\n",
    "    print('You just earned 15 points!')"
   ]
  },
  {
   "cell_type": "code",
   "execution_count": 55,
   "id": "9e5ff147-beaf-4f8b-b2e0-f31a68937ead",
   "metadata": {
    "tags": []
   },
   "outputs": [
    {
     "name": "stdout",
     "output_type": "stream",
     "text": [
      "You just earned 10 points!\n"
     ]
    }
   ],
   "source": [
    "#5-5. Alien colors #3\n",
    "alien_color = 'yellow'\n",
    "\n",
    "if alien_color == 'green':\n",
    "    print('You just earned 5 points!')\n",
    "elif alien_color == 'yellow':\n",
    "    print('You just earned 10 points!')\n",
    "elif alien_color == 'red':\n",
    "    print('You just earned 15 points!')"
   ]
  },
  {
   "cell_type": "code",
   "execution_count": 56,
   "id": "982530e6-af02-4b57-b92f-734d261dc054",
   "metadata": {
    "tags": []
   },
   "outputs": [
    {
     "name": "stdout",
     "output_type": "stream",
     "text": [
      "You just earned 15 points!\n"
     ]
    }
   ],
   "source": [
    "#5-5. Alien colors #3\n",
    "alien_color = 'red'\n",
    "\n",
    "if alien_color == 'green':\n",
    "    print('You just earned 5 points!')\n",
    "elif alien_color == 'yellow':\n",
    "    print('You just earned 10 points!')\n",
    "elif alien_color == 'red':\n",
    "    print('You just earned 15 points!')"
   ]
  },
  {
   "cell_type": "code",
   "execution_count": 81,
   "id": "a1786af7-b9ed-4121-99b4-8d119234c78e",
   "metadata": {
    "tags": []
   },
   "outputs": [
    {
     "name": "stdout",
     "output_type": "stream",
     "text": [
      "This is an elder!\n"
     ]
    }
   ],
   "source": [
    "#5-6 Stages of life\n",
    "age = 65\n",
    "\n",
    "if age < 2:\n",
    "    print('This is a baby!')\n",
    "elif age < 4:\n",
    "    print('This is a toddler!')\n",
    "elif age < 13:\n",
    "    print('This is a kid!')\n",
    "elif age < 20:\n",
    "    print('This is a teenager!')\n",
    "elif age < 65:\n",
    "    print('This is an adult!')\n",
    "elif age >= 65:\n",
    "    print('This is an elder!')"
   ]
  },
  {
   "cell_type": "code",
   "execution_count": 88,
   "id": "1c057ad9-eb9c-455e-a2a9-1b18e66d5e2b",
   "metadata": {
    "tags": []
   },
   "outputs": [
    {
     "name": "stdout",
     "output_type": "stream",
     "text": [
      "You really like pears!\n",
      "You really like apples!\n",
      "You really like grapes!\n",
      "You really like strawberries!\n"
     ]
    }
   ],
   "source": [
    "#5-7 Favorite fruit\n",
    "favorite_fruits = ['pears', 'apple', 'grapes', 'strawberries']\n",
    "\n",
    "if 'pears' in favorite_fruits:\n",
    "    print('You really like pears!')\n",
    "if 'apple' in favorite_fruits:\n",
    "    print('You really like apples!')\n",
    "if 'grapes' in favorite_fruits:\n",
    "    print('You really like grapes!')\n",
    "if 'strawberries' in favorite_fruits:\n",
    "    print('You really like strawberries!')"
   ]
  },
  {
   "cell_type": "code",
   "execution_count": 91,
   "id": "bbc7349d-e67c-40eb-850c-622c62c3b913",
   "metadata": {
    "tags": []
   },
   "outputs": [
    {
     "name": "stdout",
     "output_type": "stream",
     "text": [
      "Adding mushrooms.\n",
      "Adding green peppers.\n",
      "Adding extra cheese.\n",
      "\n",
      "Finished making your pizza!\n"
     ]
    }
   ],
   "source": [
    "requested_toppings = ['mushrooms', 'green peppers', 'extra cheese']\n",
    "\n",
    "for requested_topping in requested_toppings:\n",
    "    print(f\"Adding {requested_topping}.\")\n",
    "    \n",
    "print(\"\\nFinished making your pizza!\")"
   ]
  },
  {
   "cell_type": "code",
   "execution_count": 92,
   "id": "31755756-8cc8-4876-880f-41504d3b467d",
   "metadata": {
    "tags": []
   },
   "outputs": [
    {
     "name": "stdout",
     "output_type": "stream",
     "text": [
      "Adding mushrooms.\n",
      "Sorry, we are out of green peppers right now.\n",
      "Adding extra cheese.\n",
      "\n",
      "Finished making your pizza!\n"
     ]
    }
   ],
   "source": [
    "requested_toppings = ['mushrooms', 'green peppers', 'extra cheese']\n",
    "\n",
    "for requested_topping in requested_toppings:\n",
    "    if requested_topping == 'green peppers':\n",
    "        print(\"Sorry, we are out of green peppers right now.\")\n",
    "    else:\n",
    "        print(f\"Adding {requested_topping}.\")\n",
    "    \n",
    "print(\"\\nFinished making your pizza!\")"
   ]
  },
  {
   "cell_type": "code",
   "execution_count": 95,
   "id": "c1b59ea1-c91f-4fc8-9d9d-0e4506a24518",
   "metadata": {
    "tags": []
   },
   "outputs": [
    {
     "name": "stdout",
     "output_type": "stream",
     "text": [
      "Are you sure you want a plain pizza?\n"
     ]
    }
   ],
   "source": [
    "requested_toppings = []\n",
    "\n",
    "if requested_toppings:\n",
    "    for requested_topping in requested_toppings:\n",
    "        print(f\"Adding {requested_topping}.\")\n",
    "    print(\"\\nFinished making your pizza!\")\n",
    "else:\n",
    "    print(\"Are you sure you want a plain pizza?\")\n"
   ]
  },
  {
   "cell_type": "code",
   "execution_count": null,
   "id": "df6944fc-b9c8-4835-8712-21ff13075d14",
   "metadata": {},
   "outputs": [],
   "source": []
  }
 ],
 "metadata": {
  "kernelspec": {
   "display_name": "Python 3 (ipykernel)",
   "language": "python",
   "name": "python3"
  },
  "language_info": {
   "codemirror_mode": {
    "name": "ipython",
    "version": 3
   },
   "file_extension": ".py",
   "mimetype": "text/x-python",
   "name": "python",
   "nbconvert_exporter": "python",
   "pygments_lexer": "ipython3",
   "version": "3.11.2"
  }
 },
 "nbformat": 4,
 "nbformat_minor": 5
}
